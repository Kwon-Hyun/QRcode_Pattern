{
 "cells": [
  {
   "cell_type": "code",
   "execution_count": 1,
   "metadata": {},
   "outputs": [],
   "source": [
    "import numpy as np\n",
    "import pandas as pd"
   ]
  },
  {
   "cell_type": "code",
   "execution_count": 2,
   "metadata": {},
   "outputs": [
    {
     "data": {
      "text/plain": [
       "NpzFile 'iPhoneCam.npz' with keys: tvecs, mtx, dist, rvecs"
      ]
     },
     "execution_count": 2,
     "metadata": {},
     "output_type": "execute_result"
    }
   ],
   "source": [
    "np.load('iPhoneCam.npz')"
   ]
  },
  {
   "cell_type": "code",
   "execution_count": 3,
   "metadata": {},
   "outputs": [],
   "source": [
    "data = np.load('iPhoneCam2.npz')"
   ]
  },
  {
   "cell_type": "code",
   "execution_count": 4,
   "metadata": {},
   "outputs": [],
   "source": [
    "array1 = data['tvecs']\n",
    "array2 = data['mtx']\n",
    "array3 = data['dist']\n",
    "array4 = data['rvecs']"
   ]
  },
  {
   "cell_type": "code",
   "execution_count": 5,
   "metadata": {},
   "outputs": [
    {
     "data": {
      "text/plain": [
       "array([[[-5.2516883 ],\n",
       "        [-1.01843617],\n",
       "        [64.29108416]],\n",
       "\n",
       "       [[-2.36021   ],\n",
       "        [ 0.86892611],\n",
       "        [86.44007548]],\n",
       "\n",
       "       [[-5.79188177],\n",
       "        [-1.14473442],\n",
       "        [47.70369274]],\n",
       "\n",
       "       [[-1.90990013],\n",
       "        [-5.80492642],\n",
       "        [71.55984907]],\n",
       "\n",
       "       [[-6.36738923],\n",
       "        [-3.06912389],\n",
       "        [77.71935018]],\n",
       "\n",
       "       [[ 0.56669036],\n",
       "        [-8.54288753],\n",
       "        [75.36882281]],\n",
       "\n",
       "       [[ 2.51875482],\n",
       "        [-4.77845699],\n",
       "        [76.91445662]],\n",
       "\n",
       "       [[-2.61749533],\n",
       "        [-1.7151796 ],\n",
       "        [76.52889888]],\n",
       "\n",
       "       [[ 2.06029675],\n",
       "        [-1.46208066],\n",
       "        [79.24217198]]])"
      ]
     },
     "execution_count": 5,
     "metadata": {},
     "output_type": "execute_result"
    }
   ],
   "source": [
    "array1"
   ]
  },
  {
   "cell_type": "code",
   "execution_count": 6,
   "metadata": {},
   "outputs": [
    {
     "data": {
      "text/plain": [
       "array([[2.40177696e+03, 0.00000000e+00, 1.19697209e+03],\n",
       "       [0.00000000e+00, 2.41740503e+03, 1.61438047e+03],\n",
       "       [0.00000000e+00, 0.00000000e+00, 1.00000000e+00]])"
      ]
     },
     "execution_count": 6,
     "metadata": {},
     "output_type": "execute_result"
    }
   ],
   "source": [
    "array2"
   ]
  },
  {
   "cell_type": "code",
   "execution_count": 7,
   "metadata": {},
   "outputs": [
    {
     "data": {
      "text/plain": [
       "array([[-6.96722305e+00,  3.96768714e+02,  3.39833920e-02,\n",
       "        -7.45673446e-03, -6.94753468e+03]])"
      ]
     },
     "execution_count": 7,
     "metadata": {},
     "output_type": "execute_result"
    }
   ],
   "source": [
    "array3"
   ]
  },
  {
   "cell_type": "code",
   "execution_count": 8,
   "metadata": {},
   "outputs": [
    {
     "data": {
      "text/plain": [
       "array([[[ 0.10752774],\n",
       "        [-0.0655603 ],\n",
       "        [ 0.1785193 ]],\n",
       "\n",
       "       [[-0.12608557],\n",
       "        [ 0.19722191],\n",
       "        [ 0.58855878]],\n",
       "\n",
       "       [[ 0.05119932],\n",
       "        [-0.11935447],\n",
       "        [-0.15866799]],\n",
       "\n",
       "       [[-0.59488073],\n",
       "        [ 0.13389567],\n",
       "        [ 0.61691502]],\n",
       "\n",
       "       [[-0.24132594],\n",
       "        [-0.35236724],\n",
       "        [-1.53652087]],\n",
       "\n",
       "       [[-0.35782728],\n",
       "        [ 0.37861728],\n",
       "        [ 1.52917407]],\n",
       "\n",
       "       [[-0.29738919],\n",
       "        [ 0.49288618],\n",
       "        [ 2.41177235]],\n",
       "\n",
       "       [[-0.16509956],\n",
       "        [-0.51950922],\n",
       "        [-2.2173405 ]],\n",
       "\n",
       "       [[ 0.07939303],\n",
       "        [-0.52889724],\n",
       "        [-2.98726412]]])"
      ]
     },
     "execution_count": 8,
     "metadata": {},
     "output_type": "execute_result"
    }
   ],
   "source": [
    "array4"
   ]
  },
  {
   "cell_type": "code",
   "execution_count": 9,
   "metadata": {},
   "outputs": [
    {
     "data": {
      "text/plain": [
       "NpzFile 'iPhoneCam2.npz' with keys: mtx, dist, rvecs, tvecs"
      ]
     },
     "execution_count": 9,
     "metadata": {},
     "output_type": "execute_result"
    }
   ],
   "source": [
    "np.load('iPhoneCam2.npz')"
   ]
  },
  {
   "cell_type": "code",
   "execution_count": null,
   "metadata": {},
   "outputs": [],
   "source": []
  }
 ],
 "metadata": {
  "kernelspec": {
   "display_name": "base",
   "language": "python",
   "name": "python3"
  },
  "language_info": {
   "codemirror_mode": {
    "name": "ipython",
    "version": 3
   },
   "file_extension": ".py",
   "mimetype": "text/x-python",
   "name": "python",
   "nbconvert_exporter": "python",
   "pygments_lexer": "ipython3",
   "version": "3.9.7"
  }
 },
 "nbformat": 4,
 "nbformat_minor": 2
}
